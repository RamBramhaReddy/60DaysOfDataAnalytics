{
 "cells": [
  {
   "cell_type": "markdown",
   "id": "fcd5cf10-9258-4efd-8bd6-447978149b1e",
   "metadata": {},
   "source": [
    "### Day1\n",
    "\n",
    "#### Problem 1: Create and Inspect a Sales Array\n",
    "\n",
    "* Task: You have sales data for a week in a Python list. Convert this list into a NumPy array and print its shape, number of dimensions, total size, and data type.\n",
    "\n",
    "* Test Case:\n",
    "\n",
    "* Input: sales_data = [150.5, 165.2, 142.0, 178.5, 191.0, 160.8, 155.3]\n",
    "\n",
    "Expected Output:\n",
    "\n",
    "   * Shape: (7,)\n",
    "    \n",
    "   * Ndim: 1\n",
    "    \n",
    "   * Size: 7\n",
    "    \n",
    "   * Dtype: float64"
   ]
  },
  {
   "cell_type": "code",
   "execution_count": 1,
   "id": "a60e4fe2-989a-403c-ab80-49818cedbf0d",
   "metadata": {},
   "outputs": [
    {
     "name": "stdout",
     "output_type": "stream",
     "text": [
      "(7,)\n",
      "1\n",
      "7\n",
      "float64\n"
     ]
    }
   ],
   "source": [
    "import numpy as np\n",
    "sales_data =np.array([150.5, 165.2, 142.0, 178.5, 191.0, 160.8, 155.3])\n",
    "print(sales_data.shape)\n",
    "print(sales_data.ndim)\n",
    "print(sales_data.size)\n",
    "print(sales_data.dtype)"
   ]
  },
  {
   "cell_type": "markdown",
   "id": "4ad00c6c-2075-428b-a7ce-dfbc7b8fc170",
   "metadata": {},
   "source": [
    "### Problem 2: Initialize a Blank Scoreboard\n",
    "\n",
    "* Task: Create a 10x4 NumPy array to represent a scoreboard for 10 players in 4 rounds of a game. Initialize all scores to zero.\n",
    "\n",
    "* Test Case:\n",
    "\n",
    "* Input: None\n",
    "\n",
    "* Expected Output: A 10x4 NumPy array where every element is 0."
   ]
  },
  {
   "cell_type": "code",
   "execution_count": 3,
   "id": "534a17f5-ed14-4c3b-b447-40562716a6ce",
   "metadata": {},
   "outputs": [
    {
     "data": {
      "text/plain": [
       "array([[0., 0., 0., 0.],\n",
       "       [0., 0., 0., 0.],\n",
       "       [0., 0., 0., 0.],\n",
       "       [0., 0., 0., 0.],\n",
       "       [0., 0., 0., 0.],\n",
       "       [0., 0., 0., 0.],\n",
       "       [0., 0., 0., 0.],\n",
       "       [0., 0., 0., 0.],\n",
       "       [0., 0., 0., 0.],\n",
       "       [0., 0., 0., 0.]])"
      ]
     },
     "execution_count": 3,
     "metadata": {},
     "output_type": "execute_result"
    }
   ],
   "source": [
    "np.zeros((10,4))"
   ]
  },
  {
   "cell_type": "markdown",
   "id": "0bcf00e7-1fbc-40f0-8d64-3d65f9ca82e1",
   "metadata": {},
   "source": [
    "### Problem 3: Generate a Sequence of Years\n",
    "\n",
    "* Task: Create a NumPy array containing all the years from 2000 to 2024, inclusive.\n",
    "\n",
    "* Test Case:\n",
    "\n",
    "* Input: None\n",
    "\n",
    "* Expected Output: [2000, 2001, 2002, ..., 2023, 2024]"
   ]
  },
  {
   "cell_type": "code",
   "execution_count": 4,
   "id": "4399aa4c-a5fb-4659-893a-f5cbcfebd166",
   "metadata": {},
   "outputs": [
    {
     "name": "stdout",
     "output_type": "stream",
     "text": [
      "[2000 2001 2002 2003 2004 2005 2006 2007 2008 2009 2010 2011 2012 2013\n",
      " 2014 2015 2016 2017 2018 2019 2020 2021 2022 2023 2024]\n"
     ]
    }
   ],
   "source": [
    "years = np.arange(2000,2025)\n",
    "print(years)"
   ]
  },
  {
   "cell_type": "markdown",
   "id": "8fceedb1-faab-4104-b8aa-a8c9abf0c960",
   "metadata": {},
   "source": [
    "### Problem 4: Default Configuration Matrix\n",
    "\n",
    "* Task: Create a 5x5 matrix where every value is 1. This could represent a default configuration or a mask in image processing.\n",
    "\n",
    "* Test Case:\n",
    "\n",
    "* Input: None\n",
    "\n",
    "* Expected Output: A 5x5 NumPy array where every element is 1."
   ]
  },
  {
   "cell_type": "code",
   "execution_count": 5,
   "id": "a2e3c47f-3d5c-48da-98d7-af3aef6e9ba9",
   "metadata": {},
   "outputs": [
    {
     "name": "stdout",
     "output_type": "stream",
     "text": [
      "[[1. 1. 1. 1. 1.]\n",
      " [1. 1. 1. 1. 1.]\n",
      " [1. 1. 1. 1. 1.]\n",
      " [1. 1. 1. 1. 1.]\n",
      " [1. 1. 1. 1. 1.]]\n"
     ]
    }
   ],
   "source": [
    "ones = np.ones((5,5))\n",
    "print(ones)"
   ]
  },
  {
   "cell_type": "markdown",
   "id": "fcc32999-70f8-45e7-9e82-c4e611542637",
   "metadata": {},
   "source": [
    "### Problem 5: Simulate Sensor Readings\n",
    "\n",
    "* Task: A sensor takes 100 readings that should be between 0 and 1. Create a 1D NumPy array of size 100 with random floats to simulate these readings.\n",
    "\n",
    "* Test Case:\n",
    "\n",
    "* Input: None\n",
    "\n",
    "* Expected Output: A 1D NumPy array with 100 random floats, where each float is between 0.0 and 1.0."
   ]
  },
  {
   "cell_type": "code",
   "execution_count": 9,
   "id": "558ca515-40db-4578-bb40-162adfbbbf98",
   "metadata": {},
   "outputs": [
    {
     "name": "stdout",
     "output_type": "stream",
     "text": [
      "[0.97913718 0.45126595 0.53218536 0.64502481 0.56939309 0.80195499\n",
      " 0.07293995 0.16583319 0.62701826 0.71814708 0.69053912 0.94245927\n",
      " 0.77211037 0.41979605 0.97030926 0.88467123 0.17793842 0.79181168\n",
      " 0.85449063 0.79479632 0.31288042 0.88489634 0.58386875 0.35071593\n",
      " 0.27623679 0.83520428 0.53120411 0.86484845 0.82540057 0.28345026\n",
      " 0.39465281 0.58882042 0.57755951 0.30188784 0.5110748  0.81416239\n",
      " 0.55631928 0.35170619 0.34711965 0.8179681  0.06288772 0.29479933\n",
      " 0.88785016 0.30849976 0.41905077 0.96159244 0.75314508 0.59385691\n",
      " 0.70053251 0.23701924 0.76137205 0.37906516 0.78553673 0.56967247\n",
      " 0.9998072  0.05169826 0.41156588 0.92871173 0.75742746 0.46535575\n",
      " 0.00813217 0.83148019 0.4579392  0.79662308 0.56475036 0.42410877\n",
      " 0.47524109 0.8622031  0.4749548  0.72305869 0.86631215 0.88463656\n",
      " 0.60113709 0.60534982 0.73973725 0.01193791 0.85482394 0.51389929\n",
      " 0.87719577 0.61980527 0.98260251 0.07691083 0.8132868  0.1384605\n",
      " 0.10742916 0.92030772 0.43215508 0.11308878 0.70560992 0.02262635\n",
      " 0.50420732 0.13641476 0.31008452 0.92762057 0.67441723 0.14729432\n",
      " 0.00364202 0.90536562 0.72883305 0.7808077 ]\n"
     ]
    }
   ],
   "source": [
    "randoms = np.random.rand(100)\n",
    "print(randoms)"
   ]
  },
  {
   "cell_type": "markdown",
   "id": "d05ac684-6a09-461d-b49d-289f96f9316a",
   "metadata": {},
   "source": [
    "### Problem 6: Create a Placeholder for Missing Data\n",
    "\n",
    "* Task: You are creating a dataset with 50 rows and 5 columns, but the data is not yet available. Initialize this dataset as a NumPy array where every value is -1 to indicate missing data.\n",
    "\n",
    "* Test Case:\n",
    "\n",
    "* Input: None\n",
    "\n",
    "* Expected Output: A 50x5 NumPy array where every element is -1."
   ]
  },
  {
   "cell_type": "code",
   "execution_count": 14,
   "id": "776a2118-73b5-4aec-bbe5-7bfe4825bbda",
   "metadata": {},
   "outputs": [
    {
     "name": "stdout",
     "output_type": "stream",
     "text": [
      "[[-1 -1 -1 -1 -1]\n",
      " [-1 -1 -1 -1 -1]\n",
      " [-1 -1 -1 -1 -1]\n",
      " [-1 -1 -1 -1 -1]\n",
      " [-1 -1 -1 -1 -1]\n",
      " [-1 -1 -1 -1 -1]\n",
      " [-1 -1 -1 -1 -1]\n",
      " [-1 -1 -1 -1 -1]\n",
      " [-1 -1 -1 -1 -1]\n",
      " [-1 -1 -1 -1 -1]\n",
      " [-1 -1 -1 -1 -1]\n",
      " [-1 -1 -1 -1 -1]\n",
      " [-1 -1 -1 -1 -1]\n",
      " [-1 -1 -1 -1 -1]\n",
      " [-1 -1 -1 -1 -1]\n",
      " [-1 -1 -1 -1 -1]\n",
      " [-1 -1 -1 -1 -1]\n",
      " [-1 -1 -1 -1 -1]\n",
      " [-1 -1 -1 -1 -1]\n",
      " [-1 -1 -1 -1 -1]\n",
      " [-1 -1 -1 -1 -1]\n",
      " [-1 -1 -1 -1 -1]\n",
      " [-1 -1 -1 -1 -1]\n",
      " [-1 -1 -1 -1 -1]\n",
      " [-1 -1 -1 -1 -1]\n",
      " [-1 -1 -1 -1 -1]\n",
      " [-1 -1 -1 -1 -1]\n",
      " [-1 -1 -1 -1 -1]\n",
      " [-1 -1 -1 -1 -1]\n",
      " [-1 -1 -1 -1 -1]\n",
      " [-1 -1 -1 -1 -1]\n",
      " [-1 -1 -1 -1 -1]\n",
      " [-1 -1 -1 -1 -1]\n",
      " [-1 -1 -1 -1 -1]\n",
      " [-1 -1 -1 -1 -1]\n",
      " [-1 -1 -1 -1 -1]\n",
      " [-1 -1 -1 -1 -1]\n",
      " [-1 -1 -1 -1 -1]\n",
      " [-1 -1 -1 -1 -1]\n",
      " [-1 -1 -1 -1 -1]\n",
      " [-1 -1 -1 -1 -1]\n",
      " [-1 -1 -1 -1 -1]\n",
      " [-1 -1 -1 -1 -1]\n",
      " [-1 -1 -1 -1 -1]\n",
      " [-1 -1 -1 -1 -1]\n",
      " [-1 -1 -1 -1 -1]\n",
      " [-1 -1 -1 -1 -1]\n",
      " [-1 -1 -1 -1 -1]\n",
      " [-1 -1 -1 -1 -1]\n",
      " [-1 -1 -1 -1 -1]]\n"
     ]
    }
   ],
   "source": [
    "dataset = np.full((50,5),-1)\n",
    "print(dataset)"
   ]
  },
  {
   "cell_type": "markdown",
   "id": "ccb359bd-cdce-496c-8010-3128121b7e88",
   "metadata": {},
   "source": [
    "### Problem 7: Generate Timestamps\n",
    "\n",
    "* Task: You need to generate 10 evenly spaced time points for a measurement that runs from 0 seconds to 60 seconds. Create the array of these time points.\n",
    "\n",
    "* Test Case:\n",
    "\n",
    "* Input: None\n",
    "\n",
    "* Expected Output: [ 0. , 6.66..., 13.33..., ..., 53.33..., 60. ]"
   ]
  },
  {
   "cell_type": "code",
   "execution_count": 15,
   "id": "61ccf4b4-87c4-4e95-b4df-696f13a5aaae",
   "metadata": {},
   "outputs": [
    {
     "name": "stdout",
     "output_type": "stream",
     "text": [
      "[ 0.          6.66666667 13.33333333 20.         26.66666667 33.33333333\n",
      " 40.         46.66666667 53.33333333 60.        ]\n"
     ]
    }
   ],
   "source": [
    "arr = np.linspace(0,60,10)\n",
    "print(arr)"
   ]
  },
  {
   "cell_type": "markdown",
   "id": "f4121974-7876-4a08-9a74-1147afbceb58",
   "metadata": {},
   "source": [
    "### Problem 8: Simulate Survey Responses\n",
    "\n",
    "* Task: You are simulating responses for a survey question with a rating scale of 1 to 5. Generate a NumPy array of 200 random integer responses.\n",
    "\n",
    "* Test Case:\n",
    "\n",
    "* Input: None\n",
    "\n",
    "* Expected Output: A 1D NumPy array of size 200 containing random integers between 1 and 5 (inclusive)."
   ]
  },
  {
   "cell_type": "code",
   "execution_count": 17,
   "id": "d85728b2-c707-4159-8b7d-646693fb4ee9",
   "metadata": {},
   "outputs": [
    {
     "name": "stdout",
     "output_type": "stream",
     "text": [
      "[2 5 4 1 4 4 2 3 3 3 5 3 1 3 5 5 4 1 2 3 5 1 2 2 5 3 2 1 3 5 3 4 4 3 2 5 1\n",
      " 4 2 1 5 4 3 3 3 5 2 4 4 4 3 5 3 2 1 2 2 1 5 2 5 4 4 1 3 4 4 3 3 3 4 4 1 3\n",
      " 3 4 5 5 2 2 2 1 1 3 2 2 5 2 2 1 3 5 3 1 5 2 2 2 2 3 2 5 5 4 3 2 2 5 2 4 1\n",
      " 2 1 3 2 4 1 4 3 4 5 1 5 2 5 3 3 3 1 2 4 3 5 1 5 2 3 4 2 2 2 2 3 3 5 3 4 1\n",
      " 5 3 2 1 3 1 4 4 3 3 4 2 5 5 4 4 4 4 3 3 5 4 1 2 5 1 4 1 5 3 3 2 4 2 3 1 4\n",
      " 5 2 5 2 5 2 2 2 1 1 2 4 2 1 4]\n"
     ]
    }
   ],
   "source": [
    "random_int = np.random.randint(1,6,200)\n",
    "print(random_int)"
   ]
  },
  {
   "cell_type": "markdown",
   "id": "8d17ca9f-8089-4175-a126-4fa7bf08649e",
   "metadata": {},
   "source": [
    "### Problem 9: Create a Feature Engineering Matrix\n",
    "\n",
    "* Task: In some machine learning models, you need a special matrix (an identity matrix) for calculations. Create a 6x6 identity matrix and then inspect its shape and data type.\n",
    "\n",
    "* Test Case:\n",
    "\n",
    "* Input: None\n",
    "\n",
    "* Expected Output:\n",
    "\n",
    "* An array that is a 6x6 identity matrix (1.0 on the diagonal, 0.0 elsewhere).\n",
    "\n",
    "* Shape: (6, 6)\n",
    "\n",
    "* Dtype: float64"
   ]
  },
  {
   "cell_type": "code",
   "execution_count": 20,
   "id": "59671d19-068a-488f-88fa-9ad4e0bd2d63",
   "metadata": {},
   "outputs": [
    {
     "name": "stdout",
     "output_type": "stream",
     "text": [
      "(6, 6)\n",
      "float64\n"
     ]
    }
   ],
   "source": [
    "identity = np.eye((6))\n",
    "print(identity.shape)\n",
    "print(identity.dtype)"
   ]
  },
  {
   "cell_type": "markdown",
   "id": "24abbf32-c7f2-4c48-b60d-45f0da44f35d",
   "metadata": {},
   "source": [
    "### Problem 10: Initialize a 3D Data Cube\n",
    "\n",
    "* Task: In scientific computing, you might work with 3D data. Create a 3x4x5 NumPy array (a data \"cube\") and initialize it entirely with zeros. Then, inspect its shape, number of dimensions, and total size.\n",
    "\n",
    "* Test Case:\n",
    "\n",
    "* Input: None\n",
    "\n",
    "* Expected Output:\n",
    "\n",
    "* Shape: (3, 4, 5)\n",
    "\n",
    "* Ndim: 3\n",
    "\n",
    "* Size: 60"
   ]
  },
  {
   "cell_type": "code",
   "execution_count": 22,
   "id": "4551f84b-ab9b-4ec8-ac0a-5fdd2e9c36ba",
   "metadata": {},
   "outputs": [
    {
     "name": "stdout",
     "output_type": "stream",
     "text": [
      "(3, 4, 5)\n",
      "3\n",
      "60\n"
     ]
    }
   ],
   "source": [
    "cube = np.full((3,4,5),0)\n",
    "print(cube.shape)\n",
    "print(cube.ndim)\n",
    "print(cube.size)"
   ]
  },
  {
   "cell_type": "markdown",
   "id": "715e0d05-3081-43f6-9848-ddad5cf61458",
   "metadata": {},
   "source": [
    "# Day2\n",
    "## problems on indexing and slicing"
   ]
  },
  {
   "cell_type": "markdown",
   "id": "79667aa5-19bc-4c99-afdd-ba9dbb14a53c",
   "metadata": {},
   "source": [
    "### Problem 1: Select a Specific Data Point\n",
    "\n",
    "* Task: You have a 1D NumPy array representing daily sales. Your task is to extract the sales figure for the third day and the last day.\n",
    "\n",
    "* Test Case:\n",
    "* Input: daily_sales = np.array([150, 200, 175, 220, 210, 190, 180])\n",
    "* Expected Output:\n",
    "* Third day sales: 175\n",
    "* Last day sales: 180"
   ]
  },
  {
   "cell_type": "code",
   "execution_count": 2,
   "id": "22c020fe-1cee-4d6b-b915-919a27d28927",
   "metadata": {},
   "outputs": [
    {
     "name": "stdout",
     "output_type": "stream",
     "text": [
      "175\n",
      "180\n"
     ]
    }
   ],
   "source": [
    "daily_sales = np.array([150, 200, 175, 220, 210, 190, 180])\n",
    "print(daily_sales[2])\n",
    "print(daily_sales[-1])"
   ]
  },
  {
   "cell_type": "markdown",
   "id": "cc1ef826-505c-4c7f-88e5-24084388fd1d",
   "metadata": {},
   "source": [
    "### Problem 2: Get a Week's Worth of Data\n",
    "* Task: From a 1D array of monthly temperature readings, extract the data for the second week (indices 7 to 13, inclusive).\n",
    "* Test Case:\n",
    "* Input: temperatures = np.array([22, 23, 21, 24, 25, 26, 24, 25, 27, 28, 26, 25, 24, 23, ...]) (imagine a long array)\n",
    "* Expected Output: An array containing the 7 temperatures from index 7 up to and including index 13."
   ]
  },
  {
   "cell_type": "code",
   "execution_count": 4,
   "id": "b18bd5ee-9fc6-4374-ae99-256c80909930",
   "metadata": {},
   "outputs": [
    {
     "name": "stdout",
     "output_type": "stream",
     "text": [
      "[25 27 28 26 25 24 23]\n"
     ]
    }
   ],
   "source": [
    "temperatures = np.array([22, 23, 21, 24, 25, 26, 24, 25, 27, 28, 26, 25, 24, 23,24,25,26,28,29\n",
    "                        ,30,31,32,33,34,35])\n",
    "print(temperatures[7:14])"
   ]
  },
  {
   "cell_type": "markdown",
   "id": "71968966-b5d9-4d3a-9649-395407532c92",
   "metadata": {},
   "source": [
    "### Problem 3: Accessing a Cell in a Dataset\n",
    "* Task: You have a 2D array representing a small dataset where rows are users and columns are [Age, Score]. Extract the score of the second user.\n",
    "* Test Case:\n",
    "* Input: user_data = np.array([[25, 88], [32, 95], [45, 76]])\n",
    "* Expected Output: 95"
   ]
  },
  {
   "cell_type": "code",
   "execution_count": 6,
   "id": "20d212f4-5ac8-4e4c-a48d-38cbbd56d561",
   "metadata": {},
   "outputs": [
    {
     "name": "stdout",
     "output_type": "stream",
     "text": [
      "95\n"
     ]
    }
   ],
   "source": [
    "user_data = np.array([[25, 88], [32, 95], [45, 76]])\n",
    "print(user_data[1,1])"
   ]
  },
  {
   "cell_type": "markdown",
   "id": "e296c4a5-e926-4e91-b84c-3546063e06a5",
   "metadata": {},
   "source": [
    "### Problem 4: Extract a Column of Data\n",
    "* Task: From the user_data 2D array (rows=users, columns=[Age, Score, ItemsPurchased]), extract all the scores into a new 1D array.\n",
    "* Test Case:\n",
    "* Input: user_data = np.array([[25, 88, 5], [32, 95, 8], [45, 76, 3]])\n",
    "* Expected Output: [88, 95, 76]"
   ]
  },
  {
   "cell_type": "code",
   "execution_count": 34,
   "id": "6bac2bd1-c88c-4f33-bf3a-785c1d2eec56",
   "metadata": {},
   "outputs": [
    {
     "name": "stdout",
     "output_type": "stream",
     "text": [
      "[88 95 76]\n"
     ]
    }
   ],
   "source": [
    "user_data = np.array([[25, 88, 5], [32, 95, 8], [45, 76, 3]])\n",
    "print(user_data[:,1])"
   ]
  },
  {
   "cell_type": "markdown",
   "id": "24690f35-86a8-4bd0-91c1-a02475b45748",
   "metadata": {},
   "source": [
    "### Problem 6: Reverse the Order of Data\n",
    "* Task: You are given a 1D array of stock prices recorded throughout the day. Reverse the array so that the latest price is first.\n",
    "* Test Case:\n",
    "* Input: prices = np.array([150.1, 150.5, 151.2, 150.8])\n",
    "* Expected Output: [150.8, 151.2, 150.5, 150.1]"
   ]
  },
  {
   "cell_type": "code",
   "execution_count": 12,
   "id": "c369e0eb-8c61-414d-9d95-a6297ca1544e",
   "metadata": {},
   "outputs": [
    {
     "name": "stdout",
     "output_type": "stream",
     "text": [
      "[150.8 151.2 150.5 150.1]\n"
     ]
    }
   ],
   "source": [
    "prices = np.array([150.1, 150.5, 151.2, 150.8])\n",
    "print(prices[::-1])"
   ]
  },
  {
   "cell_type": "markdown",
   "id": "ebd47702-fa66-4753-81cd-682e282647fa",
   "metadata": {},
   "source": [
    "### Problem 7: Get Every Other Data Point\n",
    "* Task: From a long series of sensor readings, extract every 10th reading to get a down-sampled overview of the data.\n",
    "* Test Case:\n",
    "* Input: sensor_readings = np.arange(100)\n",
    "* Expected Output: [ 0 10 20 30 40 50 60 70 80 90]"
   ]
  },
  {
   "cell_type": "code",
   "execution_count": 17,
   "id": "b8f630be-4226-437a-8acc-ba140adebd57",
   "metadata": {},
   "outputs": [
    {
     "name": "stdout",
     "output_type": "stream",
     "text": [
      "[ 0 10 20 30 40 50 60 70 80 90]\n"
     ]
    }
   ],
   "source": [
    "sensor_readings = np.arange(0,100,10)\n",
    "print(sensor_readings)"
   ]
  },
  {
   "cell_type": "markdown",
   "id": "5b7604e1-ad63-4184-b8ea-b339cf4dbf2c",
   "metadata": {},
   "source": [
    "### Problem 8: Conditional Filtering (Boolean Indexing)\n",
    "* Task: You have an array of exam scores. Create a new array containing only the scores that are 80 or higher.\n",
    "* Test Case:\n",
    "* Input: scores = np.array([75, 92, 88, 64, 81, 79, 95, 80])\n",
    "* Expected Output: [92, 88, 81, 95, 80]"
   ]
  },
  {
   "cell_type": "code",
   "execution_count": 19,
   "id": "f9d872c5-49d0-4488-b70a-43c49c196221",
   "metadata": {},
   "outputs": [
    {
     "name": "stdout",
     "output_type": "stream",
     "text": [
      "[92 88 81 95 80]\n"
     ]
    }
   ],
   "source": [
    "scores = np.array([75, 92, 88, 64, 81, 79, 95, 80])\n",
    "print(scores[scores>=80])"
   ]
  },
  {
   "cell_type": "markdown",
   "id": "04bdb163-8520-4808-b666-b9f042f99dc6",
   "metadata": {},
   "source": [
    "### Problem 9: Selecting Specific Rows and Columns\n",
    "* Task: From a 2D dataset, extract the data for the 1st, 3rd, and 4th rows, but only for the 1st and last columns.\n",
    "* Test Case:\n",
    "* nput: dataset = np.arange(25).reshape(5, 5)\n",
    "* Expected Output:\n",
    "\n",
    "*   [[ 0  4]\n",
    "     [10 14]\n",
    "     [15 19]]"
   ]
  },
  {
   "cell_type": "code",
   "execution_count": 31,
   "id": "1ec84ba2-2acd-466e-9116-711a5cedfdfd",
   "metadata": {},
   "outputs": [
    {
     "name": "stdout",
     "output_type": "stream",
     "text": [
      "[[ 0  4]\n",
      " [10 14]\n",
      " [15 19]]\n"
     ]
    }
   ],
   "source": [
    "dataset = np.arange(25).reshape(5, 5)\n",
    "# print(f\"dataset: \\n {dataset}\")\n",
    "selected = dataset[[0, 2, 3], :][:, [0, 4]]\n",
    "print(selected)\n"
   ]
  },
  {
   "cell_type": "markdown",
   "id": "ffee94b2-b89f-4597-b63d-a38331b50127",
   "metadata": {},
   "source": [
    "### Problem 10: Modifying Data Based on a Condition\n",
    "* Task: You have a dataset of sensor readings, but some readings are invalid (represented as negative numbers). Create a new version of the dataset where all negative readings are replaced with 0.\n",
    "* Test Case:\n",
    "* Input: readings = np.array([[10, 12, -5], [15, -2, 18], [20, 22, 25]])\n",
    "* Expected Output:\n",
    "\n",
    "* [[10 12  0]\n",
    "   [15  0 18]\n",
    "   [20 22 25]]"
   ]
  },
  {
   "cell_type": "code",
   "execution_count": 43,
   "id": "3ebbc255-faaa-43af-94a3-a2b6b2347d9f",
   "metadata": {},
   "outputs": [
    {
     "name": "stdout",
     "output_type": "stream",
     "text": [
      "[[10 12  0]\n",
      " [15  0 18]\n",
      " [20 22 25]]\n"
     ]
    }
   ],
   "source": [
    "readings = np.array([[10, 12, -5], [15, -2, 18], [20, 22, 25]])\n",
    "readings[readings < 0]=0\n",
    "print(readings)"
   ]
  },
  {
   "cell_type": "markdown",
   "id": "48432c59-e56e-4ee9-9841-1d45c48dae69",
   "metadata": {},
   "source": [
    "## problems on copy vs view"
   ]
  },
  {
   "cell_type": "markdown",
   "id": "40cd7b06-3924-4f7c-bcd6-70ced4120ec7",
   "metadata": {},
   "source": [
    "### Problem 1: Modifying a Data Slice\n",
    "* Task: You have a 1D NumPy array representing sensor readings over 10 seconds. You create a slice containing the first 5 seconds of data and set all its values to 0 to represent a sensor reset. Predict the final state of the original 10-second array.\n",
    "* Test Case:\n",
    "* Input: readings = np.arange(10)\n",
    "* Action: morning_readings = readings[0:5], then morning_readings[:] = 0\n",
    "* Question: What will the readings array look like after these actions?"
   ]
  },
  {
   "cell_type": "code",
   "execution_count": 44,
   "id": "d0a193e8-6b82-4715-975c-38d0c3e39b6e",
   "metadata": {},
   "outputs": [
    {
     "name": "stdout",
     "output_type": "stream",
     "text": [
      "morning_readings: [0 0 0 0 0]\n",
      "readings: [0 0 0 0 0 5 6 7 8 9]\n"
     ]
    }
   ],
   "source": [
    "readings = np.arange(10)\n",
    "morning_readings = readings[0:5]\n",
    "morning_readings[:] = 0\n",
    "print(f\"morning_readings: {morning_readings}\")\n",
    "print(f\"readings: {readings}\")"
   ]
  },
  {
   "cell_type": "markdown",
   "id": "e21c4fe2-0895-4429-ba74-5f40eabf43da",
   "metadata": {},
   "source": [
    "### Problem 2: Creating a Safe Backup\n",
    "* Task: You have an array of customer scores. You need to create a separate, independent backup of this array before you perform experimental modifications on the backup. How do you create this backup to ensure the original array is never changed?\n",
    "* Test Case:\n",
    "* Input: scores = np.array([88, 92, 75, 100, 64])\n",
    "* Action: Create a backup_scores array and modify its first element to 0.\n",
    "* Question: Describe the function you would use. What will the scores array and the backup_scores array look like after the modification?"
   ]
  },
  {
   "cell_type": "code",
   "execution_count": 46,
   "id": "6b1f9c75-752c-4795-b92f-f9a5ba99d1ee",
   "metadata": {},
   "outputs": [
    {
     "name": "stdout",
     "output_type": "stream",
     "text": [
      "scores: [ 88  92  75 100  64]\n",
      "backup_scores: [100  92  75 100  64]\n"
     ]
    }
   ],
   "source": [
    "scores = np.array([88, 92, 75, 100, 64])\n",
    "backup_scores= scores.copy()\n",
    "backup_scores[0]= 100\n",
    "print(f\"scores: {scores}\")\n",
    "print(f\"backup_scores: {backup_scores}\")"
   ]
  },
  {
   "cell_type": "markdown",
   "id": "591495c8-a0e7-440b-ae0d-38cf8f600340",
   "metadata": {},
   "source": [
    "### Problem 3: Checking for Data Ownership\n",
    "* Task: You are given a main dataset and two subsets, subset_A and subset_B. One is a view and one is a copy. Describe how you would use the .base attribute to determine which subset, if modified, would alter the main_dataset.\n",
    "* Test Case:\n",
    "* Input:\n",
    "* main_dataset = np.arange(20)\n",
    "* subset_A = main_dataset[5:10]\n",
    "* subset_B = main_dataset.copy()\n",
    "* Question: What would subset_A.base and subset_B.base return? Which one is safe to modify without affecting main_dataset?"
   ]
  },
  {
   "cell_type": "code",
   "execution_count": 47,
   "id": "777db452-241c-445c-8756-e7919fd25830",
   "metadata": {},
   "outputs": [
    {
     "name": "stdout",
     "output_type": "stream",
     "text": [
      "[ 0  1  2  3  4  5  6  7  8  9 10 11 12 13 14 15 16 17 18 19]\n",
      "None\n"
     ]
    }
   ],
   "source": [
    "main_dataset = np.arange(20)\n",
    "subset_A = main_dataset[5:10]\n",
    "subset_B = main_dataset.copy()\n",
    "print(subset_A.base)\n",
    "print(subset_B.base)"
   ]
  },
  {
   "cell_type": "markdown",
   "id": "d70632f5-c1da-490f-b18b-53688944dc27",
   "metadata": {},
   "source": [
    "### Problem 4: Reshaping for Analysis\n",
    "* Task: You have a 1D array of 12 monthly sales figures. You reshape this into a 4x3 array to analyze quarterly data. You then find a data entry error in the first month of the first quarter and update it to 500 in the reshaped array. Predict the final state of the original 1D monthly sales array.\n",
    "* Test Case:\n",
    "* Input: monthly_sales = np.array([100, 120, 150, 130, 140, 160, 110, 130, 170, 150, 180, 200])\n",
    "* Action: quarterly_sales = monthly_sales.reshape(4, 3), then quarterly_sales[0, 0] = 500\n",
    "* Question: What will the monthly_sales array look like after this?"
   ]
  },
  {
   "cell_type": "code",
   "execution_count": 48,
   "id": "4370fe55-28c6-4f12-aa91-161bd27407ed",
   "metadata": {},
   "outputs": [
    {
     "name": "stdout",
     "output_type": "stream",
     "text": [
      "[500 120 150 130 140 160 110 130 170 150 180 200]\n",
      "[[500 120 150]\n",
      " [130 140 160]\n",
      " [110 130 170]\n",
      " [150 180 200]]\n"
     ]
    }
   ],
   "source": [
    "monthly_sales = np.array([100, 120, 150, 130, 140, 160, 110, 130, 170, 150, 180, 200])\n",
    "quarterly_sales = monthly_sales.reshape(4, 3)\n",
    "quarterly_sales[0, 0] = 500\n",
    "print(monthly_sales)\n",
    "print(quarterly_sales)"
   ]
  },
  {
   "cell_type": "markdown",
   "id": "7e75dbe0-274e-4539-aa3e-2bc14dc19665",
   "metadata": {},
   "source": [
    "### Problem 5: Slicing vs. Advanced Indexing\n",
    "* Task: You have a dataset of 10 user IDs. You perform two experiments:\n",
    "* Create group1 by slicing the first 4 users.\n",
    "* Create group2 by selecting users at specific indices [0, 3, 5, 7]. You then set the first element of both group1 and group2 to 99. Predict the final state of the original user_ids array after both operations.\n",
    "* Test Case:\n",
    "* **Input**: user_ids = np.arange(10, 20)\n",
    "* **Action 1**: group1 = user_ids[0:4], then group1[0] = 99\n",
    "\n",
    "* **Action 2**: group2 = user_ids[[0, 3, 5, 7]], then group2[0] = 99\n",
    "* Question: What is the final value of the user_ids array? Explain why the two actions produce different results on the original array."
   ]
  },
  {
   "cell_type": "code",
   "execution_count": 52,
   "id": "b738d546-5495-4694-b150-1376ec5b9f2d",
   "metadata": {},
   "outputs": [
    {
     "name": "stdout",
     "output_type": "stream",
     "text": [
      "group2 result: [10 11 12 13 14 15 16 17 18 19]\n",
      "group1 result: [99 11 12 13 14 15 16 17 18 19]\n"
     ]
    }
   ],
   "source": [
    "user_ids = np.arange(10, 20)\n",
    "group2 = user_ids[[0, 3, 5, 7]]\n",
    "group2[0] = 99\n",
    "print(f\"group2 result: {user_ids}\") # its creates a copy \n",
    "group1 = user_ids[0:4]\n",
    "group1[0] = 99\n",
    "print(f\"group1 result: {user_ids}\")  # its create a view\n"
   ]
  },
  {
   "cell_type": "code",
   "execution_count": null,
   "id": "5a2b6901-4558-41f1-bcaf-1ea37ba9abe6",
   "metadata": {},
   "outputs": [],
   "source": []
  }
 ],
 "metadata": {
  "kernelspec": {
   "display_name": "Python 3 (ipykernel)",
   "language": "python",
   "name": "python3"
  },
  "language_info": {
   "codemirror_mode": {
    "name": "ipython",
    "version": 3
   },
   "file_extension": ".py",
   "mimetype": "text/x-python",
   "name": "python",
   "nbconvert_exporter": "python",
   "pygments_lexer": "ipython3",
   "version": "3.12.1"
  }
 },
 "nbformat": 4,
 "nbformat_minor": 5
}
