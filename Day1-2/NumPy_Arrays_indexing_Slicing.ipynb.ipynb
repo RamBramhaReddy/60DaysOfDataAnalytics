{
 "cells": [
  {
   "cell_type": "markdown",
   "id": "4e047a32-954f-4853-a22d-06259c562621",
   "metadata": {},
   "source": [
    "# Numpy\n",
    "\n",
    "\n",
    "### What is NumPy?\n",
    "\n",
    "* NumPy stands for **'Numerical Python.'**\n",
    "- NumPy is a Python library used for fast math with numbers.\n",
    "- **It has a special data type called an array** (ndarray) that stores lots of numbers together.\n",
    "- **NumPy arrays are faster and use less memory** than Python lists for numerical work.\n",
    "- **It is used in data science, machine learning, and scientific research.**\n",
    "- **NumPy makes it easy to do math on entire lists of numbers at once.**\n",
    "\n",
    "\n",
    "### Why is NumPy faster than Python lists?\n",
    "- **Memory Layout**: NumPy arrays store all their data in one big block (contiguous memory), while Python lists are scattered in memory.​\n",
    "\n",
    "- **Data Types**: NumPy arrays use the same data type for all elements. Python lists can mix anything (numbers, strings, objects), which makes them slower for math.​\n",
    "\n",
    "- **Underlying Code**: NumPy uses optimized code written in C, which makes operations much faster than Python’s built-in loops.​\n",
    "\n",
    "- Example: Multiplying two million numbers is often 10–50 times faster with NumPy than with lists.​\n",
    "\n",
    "- **Vectorized Operations**: In NumPy you can apply math to all elements at once (e.g., array1 * array2), instead of looping through each item."
   ]
  },
  {
   "cell_type": "markdown",
   "id": "a8136906-a616-446e-ba77-1117bf368701",
   "metadata": {},
   "source": [
    "## creating Arrays\n",
    "\n",
    "### 1. From a List\n",
    "* Convert a Python list to a NumPy array."
   ]
  },
  {
   "cell_type": "code",
   "execution_count": 1,
   "id": "c5aeb394-7039-4c27-a483-00e7baea4fdb",
   "metadata": {},
   "outputs": [],
   "source": [
    "import numpy as np"
   ]
  },
  {
   "cell_type": "code",
   "execution_count": 2,
   "id": "6e114638-ad69-4585-961f-999302834c1f",
   "metadata": {},
   "outputs": [
    {
     "name": "stdout",
     "output_type": "stream",
     "text": [
      "[1 2 3]\n"
     ]
    }
   ],
   "source": [
    "arr_list = np.array([1, 2, 3])\n",
    "print(arr_list)"
   ]
  },
  {
   "cell_type": "markdown",
   "id": "ae4d8ec8-1990-4427-a68a-782ce875c246",
   "metadata": {},
   "source": [
    "### 1.1 From a Nested List\n",
    "*  List of lists forms rows of a 2D array."
   ]
  },
  {
   "cell_type": "markdown",
   "id": "d8ec46ee-096b-46b2-b966-306df4d4d768",
   "metadata": {},
   "source": [
    "### 2. From a Tuple\n",
    "* Convert a Python tuple to a NumPy array."
   ]
  },
  {
   "cell_type": "code",
   "execution_count": 16,
   "id": "835f41bb-216e-40cd-80d2-07c58941e5a2",
   "metadata": {},
   "outputs": [
    {
     "name": "stdout",
     "output_type": "stream",
     "text": [
      "[[1 2 3]\n",
      " [4 5 6]]\n"
     ]
    }
   ],
   "source": [
    "arr_2d = np.array([[1, 2, 3], [4, 5, 6]])\n",
    "print(arr_2d)\n"
   ]
  },
  {
   "cell_type": "code",
   "execution_count": 3,
   "id": "3809e32d-d483-4f58-b209-ebd5b57a9f26",
   "metadata": {},
   "outputs": [
    {
     "name": "stdout",
     "output_type": "stream",
     "text": [
      "[4 5 6]\n"
     ]
    }
   ],
   "source": [
    "arr_tuple = np.array((4, 5, 6))\n",
    "print(arr_tuple)\n"
   ]
  },
  {
   "cell_type": "markdown",
   "id": "ac739cb8-a6d2-4c93-9f7d-be167665a242",
   "metadata": {},
   "source": [
    "### 3. From a Set\n",
    "* Convert a Python set to a NumPy array (order may vary)."
   ]
  },
  {
   "cell_type": "code",
   "execution_count": 4,
   "id": "6d3dc7d0-74ad-4957-bf1f-f33b3b23940e",
   "metadata": {},
   "outputs": [
    {
     "name": "stdout",
     "output_type": "stream",
     "text": [
      "{8, 9, 7}\n"
     ]
    }
   ],
   "source": [
    "arr_set = np.array({7, 8, 9})\n",
    "print(arr_set) #  (order may change)\n"
   ]
  },
  {
   "cell_type": "markdown",
   "id": "c23abd12-0d5d-4635-9a44-abbdd9b9631c",
   "metadata": {},
   "source": [
    "### 4. From a Dictionary\n",
    "* Create a NumPy array from a dictionary’s keys or values or items."
   ]
  },
  {
   "cell_type": "code",
   "execution_count": 7,
   "id": "9bc07457-67d8-414e-aca6-4bc34919a404",
   "metadata": {},
   "outputs": [
    {
     "name": "stdout",
     "output_type": "stream",
     "text": [
      "['a' 'b' 'c']\n",
      "[1 2 3]\n",
      "[['a' '1']\n",
      " ['b' '2']\n",
      " ['c' '3']]\n"
     ]
    }
   ],
   "source": [
    "d = {'a': 1, 'b': 2, 'c': 3}\n",
    "arr_keys = np.array(list(d.keys()))\n",
    "arr_values = np.array(list(d.values()))\n",
    "arr_items = np.array(list(d.items()))\n",
    "print(arr_keys)\n",
    "print(arr_values)\n",
    "print(arr_items)\n"
   ]
  },
  {
   "cell_type": "markdown",
   "id": "bfe5371e-256d-4f44-932d-2e5f6f15f7bb",
   "metadata": {},
   "source": [
    "### 5. Arrays filled with zeros\n",
    "* Note: Creates arrays filled with 0.0 (float by default)"
   ]
  },
  {
   "cell_type": "code",
   "execution_count": 6,
   "id": "2a4f2a42-26aa-4a14-864e-a165b8b09f68",
   "metadata": {},
   "outputs": [
    {
     "name": "stdout",
     "output_type": "stream",
     "text": [
      "[0. 0. 0. 0. 0.]\n",
      "[[0. 0. 0.]\n",
      " [0. 0. 0.]]\n"
     ]
    }
   ],
   "source": [
    "arr2 = np.zeros(5)          # 1D array\n",
    "arr3 = np.zeros((2, 3))     # 2D array (2 rows, 3 columns)\n",
    "print(arr2)\n",
    "print(arr3)\n"
   ]
  },
  {
   "cell_type": "markdown",
   "id": "da1413ff-848f-49d0-bb19-461fdc0515ee",
   "metadata": {},
   "source": [
    "### 6. Arrays filled with ones\n",
    "* Note: Creates arrays filled with 1.0 (float by default)"
   ]
  },
  {
   "cell_type": "code",
   "execution_count": 8,
   "id": "7cace013-d3a6-44fd-9401-a708afa4a561",
   "metadata": {},
   "outputs": [
    {
     "name": "stdout",
     "output_type": "stream",
     "text": [
      "[1. 1. 1. 1.]\n",
      "[[1. 1.]\n",
      " [1. 1.]\n",
      " [1. 1.]]\n"
     ]
    }
   ],
   "source": [
    "arr4 = np.ones(4)\n",
    "arr5 = np.ones((3, 2))\n",
    "print(arr4)\n",
    "print(arr5)\n"
   ]
  },
  {
   "cell_type": "markdown",
   "id": "64801972-fc70-4d11-9141-3df64346d3f7",
   "metadata": {},
   "source": [
    "### 7. Arrays filled with custom values\n",
    "* Note: Fill array with any specific value you want"
   ]
  },
  {
   "cell_type": "code",
   "execution_count": 9,
   "id": "47100dd1-9e7d-4156-99b0-6501403bedb1",
   "metadata": {},
   "outputs": [
    {
     "name": "stdout",
     "output_type": "stream",
     "text": [
      "[99 99 99 99 99]\n",
      "[[7 7]\n",
      " [7 7]]\n"
     ]
    }
   ],
   "source": [
    "arr6 = np.full(5, 99)       # Fill with 99\n",
    "arr7 = np.full((2, 2), 7)   # 2x2 array filled with 7\n",
    "print(arr6)\n",
    "print(arr7)\n"
   ]
  },
  {
   "cell_type": "markdown",
   "id": "8da50ed4-7a48-43fa-af93-ff404d13af33",
   "metadata": {},
   "source": [
    "### 8. Range of numbers (like Python range)\n",
    "* Note: Creates sequence of numbers with start, stop, step"
   ]
  },
  {
   "cell_type": "code",
   "execution_count": 10,
   "id": "1bc6a9da-f6b2-4100-a2f1-d4ddfcd0e6eb",
   "metadata": {},
   "outputs": [
    {
     "name": "stdout",
     "output_type": "stream",
     "text": [
      "[0 2 4 6 8]\n",
      "[0 1 2 3 4]\n"
     ]
    }
   ],
   "source": [
    "arr8 = np.arange(0, 10, 2)  # start=0, stop=10, step=2\n",
    "arr9 = np.arange(5)         # Just stop=5 (start=0, step=1)\n",
    "print(arr8)\n",
    "print(arr9)\n"
   ]
  },
  {
   "cell_type": "markdown",
   "id": "0217be06-28f8-45f8-bf26-0b7809408e6f",
   "metadata": {},
   "source": [
    "### 9. Evenly spaced numbers\n",
    "* Note: Creates specific number of evenly spaced values between start and stop"
   ]
  },
  {
   "cell_type": "code",
   "execution_count": 11,
   "id": "d4bcb71f-1ec0-4059-9561-0bc51db4349b",
   "metadata": {},
   "outputs": [
    {
     "name": "stdout",
     "output_type": "stream",
     "text": [
      "[1.         2.33333333 3.66666667 5.        ]\n",
      "[0.  0.2 0.4 0.6 0.8 1. ]\n"
     ]
    }
   ],
   "source": [
    "arr10 = np.linspace(1, 5, 4)    # 4 numbers between 1 and 5\n",
    "arr11 = np.linspace(0, 1, 6)    # 6 numbers between 0 and 1\n",
    "print(arr10)\n",
    "print(arr11)\n"
   ]
  },
  {
   "cell_type": "markdown",
   "id": "48ca8c82-7908-454c-b5a1-699c070eb2d9",
   "metadata": {},
   "source": [
    "### 10. Identity matrix\n",
    "* Note: Creates square matrix with 1s on diagonal, 0s elsewhere"
   ]
  },
  {
   "cell_type": "code",
   "execution_count": 12,
   "id": "d81236dd-7860-459a-8d59-7c5636cda26d",
   "metadata": {},
   "outputs": [
    {
     "name": "stdout",
     "output_type": "stream",
     "text": [
      "[[1. 0. 0.]\n",
      " [0. 1. 0.]\n",
      " [0. 0. 1.]]\n",
      "[[1. 0. 0. 0.]\n",
      " [0. 1. 0. 0.]\n",
      " [0. 0. 1. 0.]\n",
      " [0. 0. 0. 1.]]\n"
     ]
    }
   ],
   "source": [
    "arr12 = np.eye(3)           # 3x3 identity matrix\n",
    "arr13 = np.identity(4)      # 4x4 identity matrix\n",
    "print(arr12)\n",
    "print(arr13)\n"
   ]
  },
  {
   "cell_type": "markdown",
   "id": "0936234d-107d-4710-82f3-b0158f4ea3ce",
   "metadata": {},
   "source": [
    "#### 11. Random numbers (0 to 1)\n",
    "* Note: Creates random floating-point numbers between 0 and 1"
   ]
  },
  {
   "cell_type": "code",
   "execution_count": 13,
   "id": "e10b75fe-f4b1-4c2b-a9d3-d63a442551a8",
   "metadata": {},
   "outputs": [
    {
     "name": "stdout",
     "output_type": "stream",
     "text": [
      "[0.67672802 0.57155503 0.24755287]\n",
      "[[0.2151532  0.54922023 0.28272642]\n",
      " [0.23317659 0.36020698 0.01232097]]\n"
     ]
    }
   ],
   "source": [
    "arr14 = np.random.rand(3)       # 1D array with 3 random numbers\n",
    "arr15 = np.random.rand(2, 3)    # 2x3 array with random numbers\n",
    "print(arr14)\n",
    "print(arr15)\n"
   ]
  },
  {
   "cell_type": "markdown",
   "id": "aab3856a-84b8-4149-888b-21e6d9938b64",
   "metadata": {},
   "source": [
    "### 9. Random integers\n",
    "* Note: Creates random integers within specified range"
   ]
  },
  {
   "cell_type": "code",
   "execution_count": 14,
   "id": "34564373-3e2f-4306-a9e0-50a853f2defd",
   "metadata": {},
   "outputs": [
    {
     "name": "stdout",
     "output_type": "stream",
     "text": [
      "[9 6 1 2 4]\n",
      "[[3 3 1]\n",
      " [0 2 4]]\n"
     ]
    }
   ],
   "source": [
    "arr16 = np.random.randint(1, 10, 5)     # 5 random ints from 1-9\n",
    "arr17 = np.random.randint(0, 5, (2, 3)) # 2x3 array, ints from 0-4\n",
    "print(arr16)\n",
    "print(arr17)\n"
   ]
  },
  {
   "cell_type": "markdown",
   "id": "b596d1f5-0580-4b27-be67-f963add9f4ac",
   "metadata": {},
   "source": [
    "## NumPy Array Properties\n",
    "\n",
    "### shape\n",
    "*  Tells the dimensions of the array (rows, columns)"
   ]
  },
  {
   "cell_type": "code",
   "execution_count": 17,
   "id": "0367c8f0-b427-461c-9601-b0a340de984d",
   "metadata": {},
   "outputs": [
    {
     "name": "stdout",
     "output_type": "stream",
     "text": [
      "(3,)\n",
      "(2, 3)\n",
      "(4, 5, 2)\n"
     ]
    }
   ],
   "source": [
    "\n",
    "arr1 = np.array([1, 2, 3])\n",
    "print(arr1.shape)  \n",
    "\n",
    "arr2 = np.array([[1, 2, 3], [4, 5, 6]])\n",
    "print(arr2.shape) \n",
    "\n",
    "arr3 = np.zeros((4, 5, 2))\n",
    "print(arr3.shape) \n"
   ]
  },
  {
   "cell_type": "markdown",
   "id": "856c7197-e218-4188-ba37-adb8184868e2",
   "metadata": {},
   "source": [
    "###  ndim\n",
    "* Tells the number of dimensions (axes).\n",
    "\n"
   ]
  },
  {
   "cell_type": "code",
   "execution_count": 18,
   "id": "3ed607f4-1fa0-4b7e-b202-7148bd7ce244",
   "metadata": {},
   "outputs": [
    {
     "name": "stdout",
     "output_type": "stream",
     "text": [
      "1\n",
      "2\n",
      "3\n"
     ]
    }
   ],
   "source": [
    "print(arr1.ndim)  \n",
    "print(arr2.ndim)  \n",
    "print(arr3.ndim)  \n"
   ]
  },
  {
   "cell_type": "markdown",
   "id": "367498cf-8820-4b55-9548-26fe4c30fd73",
   "metadata": {},
   "source": [
    "###  size\n",
    "* Tells total number of elements in the array."
   ]
  },
  {
   "cell_type": "code",
   "execution_count": 20,
   "id": "2e5d02f1-55c7-48cf-be90-863af18fb080",
   "metadata": {},
   "outputs": [
    {
     "name": "stdout",
     "output_type": "stream",
     "text": [
      "3\n",
      "6\n",
      "40\n"
     ]
    }
   ],
   "source": [
    "print(arr1.size)  \n",
    "print(arr2.size)  \n",
    "print(arr3.size)  \n"
   ]
  },
  {
   "cell_type": "markdown",
   "id": "4f01a072-5ce5-49a5-8e5f-1dc65f461040",
   "metadata": {},
   "source": [
    "### dtype\n",
    "* Tells the data type of array elements."
   ]
  },
  {
   "cell_type": "code",
   "execution_count": 22,
   "id": "ac6ca191-00b4-470e-a715-d18348edeb1e",
   "metadata": {},
   "outputs": [
    {
     "name": "stdout",
     "output_type": "stream",
     "text": [
      "int64\n",
      "float64\n",
      "bool\n",
      "float32\n"
     ]
    }
   ],
   "source": [
    "arr4 = np.array([1, 2, 3])\n",
    "print(arr4.dtype)  # int64 (or int32)\n",
    "\n",
    "arr5 = np.array([1.0, 2.5, 3.1])\n",
    "print(arr5.dtype)  # float64\n",
    "\n",
    "arr6 = np.array([True, False, True])\n",
    "print(arr6.dtype)  # bool\n",
    "\n",
    "arr7 = np.array([1, 2, 3], dtype='float32')\n",
    "print(arr7.dtype)  # float32\n"
   ]
  },
  {
   "cell_type": "markdown",
   "id": "d35cdca4-cb51-4a78-b34f-e9f0da201d75",
   "metadata": {},
   "source": [
    "### Indexing\n",
    "\n",
    "* Indexing means accessing individual elements using their position (index) in a NumPy array. In NumPy, indexing starts at 0, just like Python lists. You can use positive and negative indices:\n",
    "\n",
    "* **Positive indexing**: Starts from 0 and increases forward.\n",
    "\n",
    "* **Negative indexing**: Starts from -1 (last element), -2 (second last), etc.\n",
    "\n",
    "#### 1D Array:"
   ]
  },
  {
   "cell_type": "code",
   "execution_count": 2,
   "id": "832c452b-49e1-4b55-a120-1ead4c199026",
   "metadata": {},
   "outputs": [
    {
     "name": "stdout",
     "output_type": "stream",
     "text": [
      "10\n",
      "30\n",
      "50\n",
      "30\n"
     ]
    }
   ],
   "source": [
    "\n",
    "arr = np.array([10, 20, 30, 40, 50])\n",
    "\n",
    "print(arr[0])    # Output: 10 (first element)\n",
    "print(arr[2])    # Output: 30 (third element)\n",
    "print(arr[-1])   # Output: 50 (last element)\n",
    "print(arr[-3])   # Output: 30 (third from last)\n"
   ]
  },
  {
   "cell_type": "markdown",
   "id": "5da0a988-77da-4ed7-b8ee-9e3f7a23b88f",
   "metadata": {},
   "source": [
    "#### 2D Array:"
   ]
  },
  {
   "cell_type": "code",
   "execution_count": 3,
   "id": "a064c773-b865-46e1-a603-e51f2f9467fa",
   "metadata": {},
   "outputs": [
    {
     "name": "stdout",
     "output_type": "stream",
     "text": [
      "2\n",
      "6\n"
     ]
    }
   ],
   "source": [
    "a = np.array([[1, 2, 3], [4, 5, 6]])\n",
    "print(a[0, 1])   # Output: 2 (first row, second column)\n",
    "print(a[1, -1])  # Output: 6 (second row, last column)\n"
   ]
  },
  {
   "cell_type": "markdown",
   "id": "7ac54142-4e63-4547-8030-fec4ffe2e4b7",
   "metadata": {},
   "source": [
    "###  Slicing\n",
    "Slicing extracts a subset (range or section) of elements from an array. \n",
    "* It uses the syntax: **array[start:stop:step]**\n",
    "* start: index to begin (inclusive)\n",
    "* stop: index to end (exclusive)\n",
    "* step: interval between selections (default 1* *"
   ]
  },
  {
   "cell_type": "markdown",
   "id": "6cf0cee1-48e7-4570-8d7a-2a4bf625fef9",
   "metadata": {},
   "source": [
    "#### 1D Array Slicing"
   ]
  },
  {
   "cell_type": "code",
   "execution_count": 4,
   "id": "9ab1df3f-b818-4e1b-bf35-fd40c597fa3a",
   "metadata": {},
   "outputs": [
    {
     "name": "stdout",
     "output_type": "stream",
     "text": [
      "[20 30 40]\n",
      "[10 20 30]\n",
      "[40 50 60 70]\n",
      "[20 40 60]\n"
     ]
    }
   ],
   "source": [
    "arr = np.array([10, 20, 30, 40, 50, 60, 70])\n",
    "print(arr[1:4])      # Output: [20 30 40] (indexes 1,2,3)\n",
    "print(arr[:3])       # Output: [10 20 30] (start to index 2)\n",
    "print(arr[3:])       # Output: [40 50 60 70] (index 3 to end)\n",
    "print(arr[1:6:2])    # Output: [20 40 60] (every second element from index 1 to 5)\n"
   ]
  },
  {
   "cell_type": "markdown",
   "id": "aee57c23-3393-4d37-8df1-69a130d55c49",
   "metadata": {},
   "source": [
    "#### Negative Index and Slicing\n",
    "* Negative indices count from the array's end."
   ]
  },
  {
   "cell_type": "code",
   "execution_count": 5,
   "id": "e0928366-5cad-410f-ab78-f5af62b38dc5",
   "metadata": {},
   "outputs": [
    {
     "name": "stdout",
     "output_type": "stream",
     "text": [
      "[40 50 60]\n",
      "[70 60 50 40 30 20 10]\n",
      "[70 50 30]\n"
     ]
    }
   ],
   "source": [
    "print(arr[-4:-1])     # Output: [40 50 60] (from 4th from end to last-1)\n",
    "print(arr[::-1])      # Output: [70 60 50 40 30 20 10] (reversed array)\n",
    "print(arr[-1:-6:-2])  # Output: [70 50 30] (from end backwards, every 2nd element)\n"
   ]
  },
  {
   "cell_type": "markdown",
   "id": "4bbb5c7a-26d4-41d7-9e24-645cc1efbfd6",
   "metadata": {},
   "source": [
    "### 2D Array Slicing and Indexing\n",
    "* For 2D arrays, provide slices for rows and columns:\n",
    "*   **array[row_start : row_end, col_start : col_end]**"
   ]
  },
  {
   "cell_type": "code",
   "execution_count": 7,
   "id": "381b73d0-9e0c-41bb-b699-13afcc589983",
   "metadata": {},
   "outputs": [
    {
     "name": "stdout",
     "output_type": "stream",
     "text": [
      "[[2 3]\n",
      " [6 7]]\n",
      "[ 3  7 11]\n",
      "[ 8 12]\n"
     ]
    }
   ],
   "source": [
    "arr2d = np.array([[1,2,3,4], [5,6,7,8], [9,10,11,12]])\n",
    "# Slicing first two rows, columns 1 to 3\n",
    "print(arr2d[0:2, 1:3])   # Output: [[2 3]\n",
    "                           #         [6 7]]\n",
    "# All rows, only column 2\n",
    "print(arr2d[:, 2])        # Output: [ 3  7 11]\n",
    "# Last two rows and last column\n",
    "print(arr2d[-2:, -1])     # Output: [ 8 12]\n"
   ]
  },
  {
   "cell_type": "markdown",
   "id": "f72412d1-169d-4721-b21d-eb4c814544ee",
   "metadata": {},
   "source": [
    "#### Negative Slicing in 2D Arrays:"
   ]
  },
  {
   "cell_type": "code",
   "execution_count": 8,
   "id": "d8b4d03a-beef-40ea-bd22-ee9974da8037",
   "metadata": {},
   "outputs": [
    {
     "name": "stdout",
     "output_type": "stream",
     "text": [
      "[[ 9 10 11 12]\n",
      " [ 5  6  7  8]\n",
      " [ 1  2  3  4]]\n",
      "[[ 4  3  2  1]\n",
      " [ 8  7  6  5]\n",
      " [12 11 10  9]]\n"
     ]
    }
   ],
   "source": [
    "# Reverse rows\n",
    "print(arr2d[::-1, :])     # Output: rows reversed\n",
    "# Reverse columns\n",
    "print(arr2d[:, ::-1])     # Output: columns reversed\n"
   ]
  },
  {
   "cell_type": "markdown",
   "id": "d690ffb9-0858-4722-ad5c-d33b700e189a",
   "metadata": {},
   "source": [
    "### Advanced Indexing\n",
    "#### Integer Array Indexing\n",
    "* Select specific elements using arrays of indices."
   ]
  },
  {
   "cell_type": "code",
   "execution_count": 9,
   "id": "011e9c5c-c2f5-4b06-be6e-810c4ad39501",
   "metadata": {},
   "outputs": [
    {
     "name": "stdout",
     "output_type": "stream",
     "text": [
      "[40 20 50]\n"
     ]
    }
   ],
   "source": [
    "arr = np.array([10, 20, 30, 40, 50])\n",
    "indices = np.array([3, 1, 4])\n",
    "print(arr[indices])  # Output: [40 20 50]\n"
   ]
  },
  {
   "cell_type": "markdown",
   "id": "704a05e8-d4c9-474f-9682-5b7494188c31",
   "metadata": {},
   "source": [
    "#### Boolean Indexing\n",
    "* Select elements based on conditional checks."
   ]
  },
  {
   "cell_type": "code",
   "execution_count": 11,
   "id": "94081b6c-8f08-4b99-ad12-9cc60ed0ebf1",
   "metadata": {},
   "outputs": [
    {
     "name": "stdout",
     "output_type": "stream",
     "text": [
      "[False False False  True  True]\n",
      "[45 50]\n"
     ]
    }
   ],
   "source": [
    "arr = np.array([10, 25, 30, 45, 50])\n",
    "mask = arr > 30\n",
    "print(mask)         # Output: [False False False  True  True]\n",
    "print(arr[mask])    # Output: [45 50]\n"
   ]
  },
  {
   "cell_type": "markdown",
   "id": "b3651d7d-cd5b-4c3f-a8d5-24d09c559289",
   "metadata": {},
   "source": [
    "## NumPy Array Copy vs View "
   ]
  },
  {
   "cell_type": "markdown",
   "id": "e125c13d-c614-4bcf-950c-b9aa5e2cd4ed",
   "metadata": {},
   "source": [
    "### 1. What is a Copy in NumPy?\n",
    "* A copy means a new array object with its own separate data and memory location. When you modify the copy, the original array remains unchanged.\n",
    "\n",
    "➤ Key Points\n",
    "* A copy owns its data.\n",
    "* Changes made to the copy do not affect the original array.\n",
    "* It consumes more memory, as data is duplicated.\n",
    "  \n",
    " ➤ Method\n",
    "* Use **np.copy()** or **.copy()** to create a copy.\n",
    "  \n",
    " #### Example 1 — Modifying a Copy"
   ]
  },
  {
   "cell_type": "code",
   "execution_count": 14,
   "id": "2c8873e5-20ba-49aa-a6b3-1fcefdfcf0d1",
   "metadata": {},
   "outputs": [
    {
     "name": "stdout",
     "output_type": "stream",
     "text": [
      "Original Array: [1 2 3 4 5]\n",
      "Copied Array: [99  2  3  4  5]\n"
     ]
    }
   ],
   "source": [
    "arr = np.array([1, 2, 3, 4, 5])\n",
    "copy_arr = arr.copy()\n",
    "\n",
    "copy_arr[0] = 99  # Modify the copy\n",
    "\n",
    "# Changes in copy_arr do NOT affect arr.\n",
    "\n",
    "print(\"Original Array:\", arr)\n",
    "print(\"Copied Array:\", copy_arr)\n"
   ]
  },
  {
   "cell_type": "markdown",
   "id": "7a97bfc3-8d25-47cd-8508-d7d38cb18eb7",
   "metadata": {},
   "source": [
    "#### Example 2 — Copying a 2D Array"
   ]
  },
  {
   "cell_type": "code",
   "execution_count": 17,
   "id": "d0b5c10a-7abc-4c77-a329-84795e6b80ff",
   "metadata": {},
   "outputs": [
    {
     "name": "stdout",
     "output_type": "stream",
     "text": [
      "Original Matrix:\n",
      " [[1 2]\n",
      " [3 4]]\n",
      "Copied Matrix:\n",
      " [[99  2]\n",
      " [ 3  4]]\n"
     ]
    }
   ],
   "source": [
    "matrix = np.array([[1, 2], [3, 4]])\n",
    "copy_matrix = matrix.copy()\n",
    "\n",
    "\n",
    "copy_matrix[0, 0] = 99\n",
    "\n",
    "# Both matrices are independent\n",
    "print(\"Original Matrix:\\n\", matrix)\n",
    "print(\"Copied Matrix:\\n\", copy_matrix)\n"
   ]
  },
  {
   "cell_type": "markdown",
   "id": "e2c4bccf-bcc4-4674-bb25-46e116fd4f17",
   "metadata": {},
   "source": [
    " ### 2. What is a View in NumPy?\n",
    "* A view means a different object looking at the same data buffer. When you change one, the other is also affected.\n",
    "\n",
    "➤ Key Points\n",
    "* A view shares data with the original array.\n",
    "* Changing the view also changes the original array.\n",
    "*It is memory-efficient (no data duplication).\n",
    "    \n",
    "➤ Method\n",
    "* Use **.view()** or **slicing (:)** to create a view.\n",
    "\n",
    "####  Example 3 — Modifying a View\n"
   ]
  },
  {
   "cell_type": "code",
   "execution_count": 19,
   "id": "b5b2489b-0124-47e5-a330-bcfaa7af6432",
   "metadata": {},
   "outputs": [
    {
     "name": "stdout",
     "output_type": "stream",
     "text": [
      "Original Array: [10 99 30 40 50]\n",
      "View Array: [10 99 30 40 50]\n"
     ]
    }
   ],
   "source": [
    "arr = np.array([10, 20, 30, 40, 50])\n",
    "view_arr = arr.view()\n",
    "\n",
    "view_arr[1] = 99  # modify the view\n",
    "\n",
    " # Changes in view_arr are also reflected in arr because they share the same data memory.\n",
    "print(\"Original Array:\", arr)\n",
    "print(\"View Array:\", view_arr)\n"
   ]
  },
  {
   "cell_type": "markdown",
   "id": "19b1a266-ab70-4250-a450-43ea991a60d0",
   "metadata": {},
   "source": [
    "#### Example 4 — 2D Array View"
   ]
  },
  {
   "cell_type": "code",
   "execution_count": 20,
   "id": "212c50ef-bb5a-4f4f-a4d1-4c7cbd31b383",
   "metadata": {},
   "outputs": [
    {
     "name": "stdout",
     "output_type": "stream",
     "text": [
      "Original:\n",
      " [[ 1  2]\n",
      " [ 3 99]]\n",
      "View:\n",
      " [[ 1  2]\n",
      " [ 3 99]]\n"
     ]
    }
   ],
   "source": [
    "matrix = np.array([[1, 2], [3, 4]])\n",
    "view_matrix = matrix.view()\n",
    "\n",
    "matrix[1, 1] = 99\n",
    "\n",
    "# Any change reflects in both, since memory is shared.\n",
    "print(\"Original:\\n\", matrix)\n",
    "print(\"View:\\n\", view_matrix)\n"
   ]
  },
  {
   "cell_type": "markdown",
   "id": "86a0920e-36d9-4500-aad1-0d544d3edbbf",
   "metadata": {},
   "source": [
    " ### 3. How to Check if an Array is a Copy or a View\n",
    "* NumPy provides the .base attribute.\n",
    "* If **arr.base is None**, it’s a copy (owns data).\n",
    "*If **arr.base returns another array**, it’s a view (shares data).\n",
    "\n",
    "#### Example 5 — Using .base"
   ]
  },
  {
   "cell_type": "code",
   "execution_count": 21,
   "id": "e188d1c8-45f0-4088-955f-f238090c30ce",
   "metadata": {},
   "outputs": [
    {
     "name": "stdout",
     "output_type": "stream",
     "text": [
      "None\n",
      "[1 2 3 4 5]\n"
     ]
    }
   ],
   "source": [
    "arr = np.array([1, 2, 3, 4, 5])\n",
    "copy_arr = arr.copy()\n",
    "view_arr = arr.view()\n",
    "\n",
    "print(copy_arr.base)  # Output: None (copy)\n",
    "print(view_arr.base)  # Output: Original array (view)\n"
   ]
  },
  {
   "cell_type": "markdown",
   "id": "63c4a455-0a93-4548-a772-7f695cf6c64b",
   "metadata": {},
   "source": [
    "### 4. Slicing Produces Views\n",
    "* Slicing an array usually creates a view, not a copy.\n",
    "\n",
    "####  Example 6 — Slice Behavior"
   ]
  },
  {
   "cell_type": "code",
   "execution_count": 23,
   "id": "634405df-c52b-4d88-9aa9-42ded386d454",
   "metadata": {},
   "outputs": [
    {
     "name": "stdout",
     "output_type": "stream",
     "text": [
      "Original Array: [ 1 99  3  4  5]\n",
      "Sliced View: [99  3  4]\n"
     ]
    }
   ],
   "source": [
    "a = np.array([1, 2, 3, 4, 5])\n",
    "sub_a = a[1:4]\n",
    "sub_a[0] = 99\n",
    "\n",
    "# Sliced arrays share memory — changes reflect in both.\n",
    "print(\"Original Array:\", a)\n",
    "print(\"Sliced View:\", sub_a)\n"
   ]
  },
  {
   "cell_type": "markdown",
   "id": "cfe2a20a-3125-4524-b8d8-667c72f0e954",
   "metadata": {},
   "source": [
    "### **Note**: Some operations like advanced indexing or arithmetic may create copies, not views."
   ]
  },
  {
   "cell_type": "markdown",
   "id": "ec49eb22-eccd-4689-a457-14a39edc8d50",
   "metadata": {},
   "source": [
    "### 6. Advanced Example — Reshaping Arrays\n",
    "* Reshaping can create views."
   ]
  },
  {
   "cell_type": "code",
   "execution_count": 24,
   "id": "62cf00ce-9abe-4c45-a53f-de5e361b786f",
   "metadata": {},
   "outputs": [
    {
     "name": "stdout",
     "output_type": "stream",
     "text": [
      "Original Array: [99  2  3  4  5  6]\n",
      "Reshaped View:\n",
      " [[99  2  3]\n",
      " [ 4  5  6]]\n"
     ]
    }
   ],
   "source": [
    "arr = np.array([1, 2, 3, 4, 5, 6])\n",
    "reshaped = arr.reshape(2, 3)\n",
    "\n",
    "reshaped[0, 0] = 99\n",
    " \n",
    "# Changes in reshaped affect original.\n",
    "print(\"Original Array:\", arr)\n",
    "print(\"Reshaped View:\\n\", reshaped)\n"
   ]
  },
  {
   "cell_type": "markdown",
   "id": "65414c02-acea-4e9f-b9bc-38994fc20708",
   "metadata": {},
   "source": [
    "### But: Certain operations like fancy indexing create copies, not views:"
   ]
  },
  {
   "cell_type": "code",
   "execution_count": 25,
   "id": "6f483fa6-2b67-42d9-b701-03892e726996",
   "metadata": {},
   "outputs": [
    {
     "name": "stdout",
     "output_type": "stream",
     "text": [
      "Original Array: [10 20 30 40]\n",
      "Indexed Array: [99 30]\n"
     ]
    }
   ],
   "source": [
    "arr = np.array([10, 20, 30, 40])\n",
    "copy_via_index = arr[[0, 2]]  # fancy indexing\n",
    "copy_via_index[0] = 99\n",
    "\n",
    "# The original remains unaffected (deep copy behavior).\n",
    "print(\"Original Array:\", arr)\n",
    "print(\"Indexed Array:\", copy_via_index)\n"
   ]
  },
  {
   "cell_type": "markdown",
   "id": "161e42a6-0efa-405b-afb4-74407fb524a4",
   "metadata": {},
   "source": [
    "## Quick Memory Check Rule\n",
    "* **If you only want to read or temporarily rearrange data — use a View.**\n",
    "* **If you need an independent dataset — use a Copy.**"
   ]
  },
  {
   "cell_type": "code",
   "execution_count": null,
   "id": "158e428f-271f-4897-a4a1-9495b4d95187",
   "metadata": {},
   "outputs": [],
   "source": []
  }
 ],
 "metadata": {
  "kernelspec": {
   "display_name": "Python 3 (ipykernel)",
   "language": "python",
   "name": "python3"
  },
  "language_info": {
   "codemirror_mode": {
    "name": "ipython",
    "version": 3
   },
   "file_extension": ".py",
   "mimetype": "text/x-python",
   "name": "python",
   "nbconvert_exporter": "python",
   "pygments_lexer": "ipython3",
   "version": "3.12.1"
  }
 },
 "nbformat": 4,
 "nbformat_minor": 5
}
